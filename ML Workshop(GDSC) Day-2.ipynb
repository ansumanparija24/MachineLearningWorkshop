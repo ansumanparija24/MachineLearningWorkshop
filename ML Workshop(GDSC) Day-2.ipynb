{
 "cells": [
  {
   "cell_type": "markdown",
   "id": "0997bf8d",
   "metadata": {},
   "source": [
    "## Printing Statements"
   ]
  },
  {
   "cell_type": "code",
   "execution_count": 1,
   "id": "9350fc2c",
   "metadata": {},
   "outputs": [
    {
     "name": "stdout",
     "output_type": "stream",
     "text": [
      "GDSC Silicon University\n"
     ]
    }
   ],
   "source": [
    "print(\"GDSC Silicon University\")"
   ]
  },
  {
   "cell_type": "code",
   "execution_count": 5,
   "id": "b68283f6",
   "metadata": {},
   "outputs": [
    {
     "name": "stdout",
     "output_type": "stream",
     "text": [
      "the value of x is 3\n"
     ]
    }
   ],
   "source": [
    "x=3\n",
    "# print(x)\n",
    "# print(\"the value of x is \",x)\n",
    "# print(f\"the value of x is {x}\")"
   ]
  },
  {
   "cell_type": "markdown",
   "id": "a2ded5ef",
   "metadata": {},
   "source": [
    "## Input Statements"
   ]
  },
  {
   "cell_type": "code",
   "execution_count": null,
   "id": "32629024",
   "metadata": {},
   "outputs": [],
   "source": [
    "x=int(input(\"Enter a value\"))\n",
    "# print(x)\n",
    "type(x)"
   ]
  },
  {
   "cell_type": "code",
   "execution_count": 10,
   "id": "9ce3a06a",
   "metadata": {},
   "outputs": [
    {
     "name": "stdout",
     "output_type": "stream",
     "text": [
      "hello world\n"
     ]
    }
   ],
   "source": [
    "str1=\"hello world\"\n",
    "print(str1)"
   ]
  },
  {
   "cell_type": "markdown",
   "id": "6235e3ac",
   "metadata": {},
   "source": [
    "## Slicing"
   ]
  },
  {
   "cell_type": "code",
   "execution_count": 14,
   "id": "a7c4de46",
   "metadata": {},
   "outputs": [
    {
     "data": {
      "text/plain": [
       "'hlo'"
      ]
     },
     "execution_count": 14,
     "metadata": {},
     "output_type": "execute_result"
    }
   ],
   "source": [
    "str1[0:6:2]"
   ]
  },
  {
   "cell_type": "markdown",
   "id": "4bc075b0",
   "metadata": {},
   "source": [
    "## List - A Data Structure"
   ]
  },
  {
   "cell_type": "code",
   "execution_count": 15,
   "id": "f7be737f",
   "metadata": {},
   "outputs": [
    {
     "name": "stdout",
     "output_type": "stream",
     "text": [
      "[3, 'string', 34.0]\n"
     ]
    }
   ],
   "source": [
    "list1=[3,\"string\",34.0]\n",
    "print(list1)"
   ]
  },
  {
   "cell_type": "markdown",
   "id": "fa3c08c8",
   "metadata": {},
   "source": [
    "## Function syntax in Python"
   ]
  },
  {
   "cell_type": "code",
   "execution_count": 18,
   "id": "4b4134eb",
   "metadata": {
    "scrolled": true
   },
   "outputs": [
    {
     "name": "stdout",
     "output_type": "stream",
     "text": [
      "enter the value@\n",
      "@@@@@\n"
     ]
    }
   ],
   "source": [
    "def func_name(x):\n",
    "    y=input(\"enter the value\")\n",
    "    print(y*x)\n",
    "func_name(5)"
   ]
  },
  {
   "cell_type": "markdown",
   "id": "60d8444e",
   "metadata": {},
   "source": [
    "## Conditional Statements(If-elif-else)"
   ]
  },
  {
   "cell_type": "code",
   "execution_count": 19,
   "id": "0a9fbd62",
   "metadata": {},
   "outputs": [
    {
     "name": "stdout",
     "output_type": "stream",
     "text": [
      "Enter the value of x: 46\n",
      "less than 50\n"
     ]
    }
   ],
   "source": [
    "#conditional statements\n",
    "x=int(input(\"Enter the value of x: \"))\n",
    "if(x>100):\n",
    "    print(\"Greater than 100\")\n",
    "elif (x>50) and (x<99):\n",
    "    print(\"greater than 50 less than 100\")\n",
    "else:\n",
    "    print(\"less than 50\")"
   ]
  },
  {
   "cell_type": "markdown",
   "id": "7e4b68ef",
   "metadata": {},
   "source": [
    "## Numpy\n",
    "### NumPy stands for Numerical Python. It is an open-source Python library used to perform \n",
    "### various mathematical and scientific tasks. It contains multi-dimensional arrays \n",
    "### and matrices, along with many high-level mathematical functions that operate on these arrays and matrices."
   ]
  },
  {
   "cell_type": "code",
   "execution_count": null,
   "id": "762cd6b3",
   "metadata": {},
   "outputs": [],
   "source": [
    "# What is the difference between Python List and a Numpy Array?\n",
    "# Python list can contain elements with different data types whereas Numpy Array elements are always homogeneous(same data types).\n",
    "# NumPy arrays are faster and more compact than Python lists.\n",
    "\n",
    "# Why NumPy Arrays are faster than Lists?\n",
    "# NumPy Array uses fixed memory to store data and less memory than Python lists."
   ]
  },
  {
   "cell_type": "code",
   "execution_count": null,
   "id": "de07b50f",
   "metadata": {},
   "outputs": [],
   "source": [
    "!pip install numpy"
   ]
  },
  {
   "cell_type": "code",
   "execution_count": 21,
   "id": "3d2efd90",
   "metadata": {},
   "outputs": [
    {
     "name": "stdout",
     "output_type": "stream",
     "text": [
      "[1 2 3 4]\n"
     ]
    }
   ],
   "source": [
    "import numpy as np\n",
    "list1=[1,2,3,4]\n",
    "arr1=np.array(list1,dtype=np.int64)\n",
    "print(arr1)"
   ]
  },
  {
   "cell_type": "code",
   "execution_count": 22,
   "id": "7a2265ab",
   "metadata": {},
   "outputs": [
    {
     "data": {
      "text/plain": [
       "numpy.ndarray"
      ]
     },
     "execution_count": 22,
     "metadata": {},
     "output_type": "execute_result"
    }
   ],
   "source": [
    "type(arr1)"
   ]
  },
  {
   "cell_type": "code",
   "execution_count": 23,
   "id": "004b4674",
   "metadata": {},
   "outputs": [
    {
     "name": "stdout",
     "output_type": "stream",
     "text": [
      "[[1 2]\n",
      " [3 4]]\n"
     ]
    }
   ],
   "source": [
    "list2=[[1,2],[3,4]]\n",
    "arr2=np.array(list2,dtype=np.int64)\n",
    "print(arr2)"
   ]
  },
  {
   "cell_type": "code",
   "execution_count": 26,
   "id": "6b1ab6c4",
   "metadata": {},
   "outputs": [
    {
     "name": "stdout",
     "output_type": "stream",
     "text": [
      "[[1.]]\n"
     ]
    }
   ],
   "source": [
    "arr3=np.ones((1,1))\n",
    "print(arr3)"
   ]
  },
  {
   "cell_type": "code",
   "execution_count": 27,
   "id": "dda6c1df",
   "metadata": {},
   "outputs": [
    {
     "name": "stdout",
     "output_type": "stream",
     "text": [
      "[[0. 0. 0. 0. 0.]]\n"
     ]
    }
   ],
   "source": [
    "arr4=np.zeros((1,5))\n",
    "print(arr4)"
   ]
  },
  {
   "cell_type": "code",
   "execution_count": 28,
   "id": "4a3fbd05",
   "metadata": {},
   "outputs": [
    {
     "name": "stdout",
     "output_type": "stream",
     "text": [
      "[[7 7 7 7]]\n"
     ]
    }
   ],
   "source": [
    "arr5=np.full((1,4),7)\n",
    "print(arr5)"
   ]
  },
  {
   "cell_type": "code",
   "execution_count": 31,
   "id": "8eebd2ac",
   "metadata": {},
   "outputs": [
    {
     "name": "stdout",
     "output_type": "stream",
     "text": [
      "5\n"
     ]
    }
   ],
   "source": [
    "arr6=np.random.randint(1,7)\n",
    "print(arr6)"
   ]
  },
  {
   "cell_type": "code",
   "execution_count": 33,
   "id": "6c590899",
   "metadata": {},
   "outputs": [
    {
     "name": "stdout",
     "output_type": "stream",
     "text": [
      "[[1. 0.]\n",
      " [0. 1.]]\n"
     ]
    }
   ],
   "source": [
    "arr7=np.eye(2)\n",
    "print(arr7)"
   ]
  },
  {
   "cell_type": "markdown",
   "id": "0a97509e",
   "metadata": {},
   "source": [
    "## Pandas\n",
    "### Pandas is an open source Python Data Analysis (data manipulation,data cleaning, data visualization) Library.\n",
    "### Current requirement is to convert the dataset into a preferred data format called DATAFRAME(a multidimensional table)"
   ]
  },
  {
   "cell_type": "code",
   "execution_count": 34,
   "id": "2a8aa3cb",
   "metadata": {
    "scrolled": true
   },
   "outputs": [
    {
     "name": "stdout",
     "output_type": "stream",
     "text": [
      "Requirement already satisfied: pandas in c:\\users\\haripriya\\documents\\jupiter\\lib\\site-packages (1.4.2)\n",
      "Requirement already satisfied: numpy>=1.18.5 in c:\\users\\haripriya\\documents\\jupiter\\lib\\site-packages (from pandas) (1.21.5)\n",
      "Requirement already satisfied: pytz>=2020.1 in c:\\users\\haripriya\\documents\\jupiter\\lib\\site-packages (from pandas) (2021.3)\n",
      "Requirement already satisfied: python-dateutil>=2.8.1 in c:\\users\\haripriya\\documents\\jupiter\\lib\\site-packages (from pandas) (2.8.2)\n",
      "Requirement already satisfied: six>=1.5 in c:\\users\\haripriya\\documents\\jupiter\\lib\\site-packages (from python-dateutil>=2.8.1->pandas) (1.16.0)\n"
     ]
    }
   ],
   "source": [
    "!pip install pandas"
   ]
  },
  {
   "cell_type": "code",
   "execution_count": 1,
   "id": "fcf8de99",
   "metadata": {},
   "outputs": [
    {
     "name": "stdout",
     "output_type": "stream",
     "text": [
      "   apples  oranges\n",
      "0       3        5\n",
      "1       2        4\n",
      "2       0        3\n",
      "3       1        2\n"
     ]
    }
   ],
   "source": [
    "import pandas as pd\n",
    "dictionary={\n",
    "    'apples':[3,2,0,1],\n",
    "    'oranges':[5,4,3,2]\n",
    "}\n",
    "# print(dictionary)\n",
    "purchases=pd.DataFrame(dictionary)\n",
    "print(purchases)\n",
    "#here is an example of dataframe  "
   ]
  },
  {
   "cell_type": "code",
   "execution_count": 2,
   "id": "3e937c52",
   "metadata": {},
   "outputs": [
    {
     "name": "stdout",
     "output_type": "stream",
     "text": [
      "      order_id  quantity                              item_name  \\\n",
      "0            1         1           Chips and Fresh Tomato Salsa   \n",
      "1            1         1                                   Izze   \n",
      "2            1         1                       Nantucket Nectar   \n",
      "3            1         1  Chips and Tomatillo-Green Chili Salsa   \n",
      "4            2         2                           Chicken Bowl   \n",
      "...        ...       ...                                    ...   \n",
      "4617      1833         1                          Steak Burrito   \n",
      "4618      1833         1                          Steak Burrito   \n",
      "4619      1834         1                     Chicken Salad Bowl   \n",
      "4620      1834         1                     Chicken Salad Bowl   \n",
      "4621      1834         1                     Chicken Salad Bowl   \n",
      "\n",
      "                                     choice_description item_price  \n",
      "0                                                   NaN     $2.39   \n",
      "1                                          [Clementine]     $3.39   \n",
      "2                                               [Apple]     $3.39   \n",
      "3                                                   NaN     $2.39   \n",
      "4     [Tomatillo-Red Chili Salsa (Hot), [Black Beans...    $16.98   \n",
      "...                                                 ...        ...  \n",
      "4617  [Fresh Tomato Salsa, [Rice, Black Beans, Sour ...    $11.75   \n",
      "4618  [Fresh Tomato Salsa, [Rice, Sour Cream, Cheese...    $11.75   \n",
      "4619  [Fresh Tomato Salsa, [Fajita Vegetables, Pinto...    $11.25   \n",
      "4620  [Fresh Tomato Salsa, [Fajita Vegetables, Lettu...     $8.75   \n",
      "4621  [Fresh Tomato Salsa, [Fajita Vegetables, Pinto...     $8.75   \n",
      "\n",
      "[4622 rows x 5 columns]\n"
     ]
    }
   ],
   "source": [
    "orders=pd.read_table('http://bit.ly/chiporders')\n",
    "# read_table for reading data present in table format\n",
    "# read_csv is used for reading data in csv format\n",
    "print(orders)"
   ]
  },
  {
   "cell_type": "code",
   "execution_count": null,
   "id": "6ff08301",
   "metadata": {},
   "outputs": [],
   "source": []
  }
 ],
 "metadata": {
  "kernelspec": {
   "display_name": "Python 3 (ipykernel)",
   "language": "python",
   "name": "python3"
  },
  "language_info": {
   "codemirror_mode": {
    "name": "ipython",
    "version": 3
   },
   "file_extension": ".py",
   "mimetype": "text/x-python",
   "name": "python",
   "nbconvert_exporter": "python",
   "pygments_lexer": "ipython3",
   "version": "3.9.12"
  }
 },
 "nbformat": 4,
 "nbformat_minor": 5
}
